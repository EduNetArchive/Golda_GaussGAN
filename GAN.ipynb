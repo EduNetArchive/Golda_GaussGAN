{
 "cells": [
  {
   "cell_type": "code",
   "execution_count": 22,
   "id": "02679f42",
   "metadata": {
    "code_folding": [
     0
    ]
   },
   "outputs": [],
   "source": [
    "# import\n",
    "import torch\n",
    "import numpy as np\n",
    "import pandas as pd\n",
    "import torch.nn as nn\n",
    "import seaborn as sns\n",
    "import matplotlib.pyplot as plt\n",
    "from torch.utils.data import DataLoader, TensorDataset\n",
    "from torch.utils.data.dataset import Dataset, random_split"
   ]
  },
  {
   "cell_type": "code",
   "execution_count": 2,
   "id": "d02e76ee",
   "metadata": {
    "code_folding": [
     0
    ]
   },
   "outputs": [
    {
     "data": {
      "text/html": [
       "<style>#notebook { padding-top:0px !important;margin-left:-30px !important; } .container { width:100% !important; } .end_space { min-height:0px !important; } </style>"
      ],
      "text/plain": [
       "<IPython.core.display.HTML object>"
      ]
     },
     "metadata": {},
     "output_type": "display_data"
    }
   ],
   "source": [
    "# wide screen\n",
    "from IPython.core.display import display, HTML\n",
    "from IPython import get_ipython as get_ipython\n",
    "display(HTML(\n",
    "    '<style>'\n",
    "        '#notebook { padding-top:0px !important;margin-left:-30px !important; } ' \n",
    "        '.container { width:100% !important; } '\n",
    "        '.end_space { min-height:0px !important; } '\n",
    "    '</style>'\n",
    "))"
   ]
  },
  {
   "cell_type": "markdown",
   "id": "8f2092f3",
   "metadata": {},
   "source": [
    "# Data load and preproc"
   ]
  },
  {
   "cell_type": "code",
   "execution_count": 27,
   "id": "b82296be",
   "metadata": {},
   "outputs": [
    {
     "data": {
      "text/html": [
       "<div>\n",
       "<style scoped>\n",
       "    .dataframe tbody tr th:only-of-type {\n",
       "        vertical-align: middle;\n",
       "    }\n",
       "\n",
       "    .dataframe tbody tr th {\n",
       "        vertical-align: top;\n",
       "    }\n",
       "\n",
       "    .dataframe thead th {\n",
       "        text-align: right;\n",
       "    }\n",
       "</style>\n",
       "<table border=\"1\" class=\"dataframe\">\n",
       "  <thead>\n",
       "    <tr style=\"text-align: right;\">\n",
       "      <th></th>\n",
       "      <th>p_x_e</th>\n",
       "      <th>p_y_e</th>\n",
       "      <th>p_z_e</th>\n",
       "      <th>p_x_g1</th>\n",
       "      <th>p_y_g1</th>\n",
       "      <th>p_z_g1</th>\n",
       "      <th>p_x_g2</th>\n",
       "      <th>p_y_g2</th>\n",
       "      <th>p_z_g2</th>\n",
       "      <th>p_x_p</th>\n",
       "      <th>p_y_p</th>\n",
       "      <th>p_z_p</th>\n",
       "    </tr>\n",
       "  </thead>\n",
       "  <tbody>\n",
       "    <tr>\n",
       "      <th>0</th>\n",
       "      <td>-0.690989</td>\n",
       "      <td>0.103835</td>\n",
       "      <td>5.51422</td>\n",
       "      <td>0.089400</td>\n",
       "      <td>0.045746</td>\n",
       "      <td>0.269585</td>\n",
       "      <td>-0.030107</td>\n",
       "      <td>0.087844</td>\n",
       "      <td>0.412633</td>\n",
       "      <td>0.631697</td>\n",
       "      <td>-0.237425</td>\n",
       "      <td>0.338562</td>\n",
       "    </tr>\n",
       "    <tr>\n",
       "      <th>1</th>\n",
       "      <td>0.171885</td>\n",
       "      <td>0.790657</td>\n",
       "      <td>5.55251</td>\n",
       "      <td>0.000561</td>\n",
       "      <td>-0.178669</td>\n",
       "      <td>0.041795</td>\n",
       "      <td>0.161253</td>\n",
       "      <td>-0.302007</td>\n",
       "      <td>0.173096</td>\n",
       "      <td>-0.333699</td>\n",
       "      <td>-0.309982</td>\n",
       "      <td>0.767596</td>\n",
       "    </tr>\n",
       "    <tr>\n",
       "      <th>2</th>\n",
       "      <td>0.561344</td>\n",
       "      <td>0.620206</td>\n",
       "      <td>5.75845</td>\n",
       "      <td>-0.015134</td>\n",
       "      <td>-0.023590</td>\n",
       "      <td>0.063544</td>\n",
       "      <td>0.077784</td>\n",
       "      <td>-0.187364</td>\n",
       "      <td>0.029703</td>\n",
       "      <td>-0.623994</td>\n",
       "      <td>-0.409252</td>\n",
       "      <td>0.683299</td>\n",
       "    </tr>\n",
       "  </tbody>\n",
       "</table>\n",
       "</div>"
      ],
      "text/plain": [
       "      p_x_e     p_y_e    p_z_e    p_x_g1    p_y_g1    p_z_g1    p_x_g2  \\\n",
       "0 -0.690989  0.103835  5.51422  0.089400  0.045746  0.269585 -0.030107   \n",
       "1  0.171885  0.790657  5.55251  0.000561 -0.178669  0.041795  0.161253   \n",
       "2  0.561344  0.620206  5.75845 -0.015134 -0.023590  0.063544  0.077784   \n",
       "\n",
       "     p_y_g2    p_z_g2     p_x_p     p_y_p     p_z_p  \n",
       "0  0.087844  0.412633  0.631697 -0.237425  0.338562  \n",
       "1 -0.302007  0.173096 -0.333699 -0.309982  0.767596  \n",
       "2 -0.187364  0.029703 -0.623994 -0.409252  0.683299  "
      ]
     },
     "execution_count": 27,
     "metadata": {},
     "output_type": "execute_result"
    }
   ],
   "source": [
    "df = pd.read_csv('/Users/andrey.golda/Documents/Study/NN/job_5067/output/3M_epgg.csv')\n",
    "pd.concat([df.dtypes, df.isnull().sum()], axis=1)\n",
    "df.head(3)"
   ]
  },
  {
   "cell_type": "code",
   "execution_count": 123,
   "id": "e1aec364",
   "metadata": {},
   "outputs": [],
   "source": [
    "class DatasetPi0(Dataset):\n",
    "    def __init__(self, df):\n",
    "        self.df = df\n",
    "        self.p_x_e=torch.tensor(df.p_x_e,dtype=torch.float32)\n",
    "        self.p_y_e=torch.tensor(df.p_y_e,dtype=torch.float32)\n",
    "        self.p_z_e=torch.tensor(df.p_z_e,dtype=torch.float32)\n",
    "        self.p_x_g1=torch.tensor(df.p_x_g1,dtype=torch.float32)\n",
    "        self.p_y_g1=torch.tensor(df.p_y_g1,dtype=torch.float32)\n",
    "        self.p_z_g1=torch.tensor(df.p_z_g1,dtype=torch.float32)\n",
    "        self.p_x_g2=torch.tensor(df.p_x_g2,dtype=torch.float32)\n",
    "        self.p_y_g2=torch.tensor(df.p_y_g2,dtype=torch.float32)\n",
    "        self.p_z_g2=torch.tensor(df.p_z_g2,dtype=torch.float32)\n",
    "        self.p_x_p=torch.tensor(df.p_x_p,dtype=torch.float32)\n",
    "        self.p_y_p=torch.tensor(df.p_y_p,dtype=torch.float32)\n",
    "        self.p_z_p=torch.tensor(df.p_z_p,dtype=torch.float32)\n",
    "    def __len__(self):\n",
    "        return len(self.p_x_e)\n",
    "   \n",
    "    def __getitem__(self, idx):\n",
    "        return self.p_x_e[idx],\\\n",
    "                self.p_y_e[idx],\\\n",
    "                self.p_z_e[idx],\\\n",
    "                self.p_x_g1[idx],\\\n",
    "                self.p_y_g1[idx],\\\n",
    "                self.p_z_g1[idx],\\\n",
    "                self.p_x_g2[idx],\\\n",
    "                self.p_y_g2[idx],\\\n",
    "                self.p_z_g2[idx],\\\n",
    "                self.p_x_p[idx],\\\n",
    "                self.p_y_p[idx],\\\n",
    "                self.p_z_p[idx]"
   ]
  },
  {
   "cell_type": "code",
   "execution_count": 124,
   "id": "e253c899",
   "metadata": {},
   "outputs": [],
   "source": [
    "train_loader = DataLoader(DatasetPi0(df), batch_size=50, shuffle=True)"
   ]
  },
  {
   "cell_type": "markdown",
   "id": "9219e29f",
   "metadata": {},
   "source": [
    "# Train"
   ]
  },
  {
   "cell_type": "code",
   "execution_count": 125,
   "id": "c442c132",
   "metadata": {
    "code_folding": []
   },
   "outputs": [],
   "source": [
    "class Generator(nn.Module):\n",
    "    def __init__(self, latent_space, hidden_dim):\n",
    "        super().__init__()\n",
    "        self.model = nn.Sequential(\n",
    "            nn.Linear(latent_space, hidden_dim),\n",
    "            nn.ReLU(),\n",
    "            nn.Linear(hidden_dim, hidden_dim),\n",
    "            nn.ReLU(),\n",
    "            nn.Linear(hidden_dim, hidden_dim),\n",
    "            nn.ReLU(),\n",
    "            nn.Linear(hidden_dim, 12))\n",
    "\n",
    "    def forward(self, x):\n",
    "        return self.model(x)\n",
    "\n",
    "class Discriminator(nn.Module):\n",
    "    def __init__(self, hidden_dim):\n",
    "        super().__init__()\n",
    "        self.model = nn.Sequential(\n",
    "            nn.Linear(12, hidden_dim),\n",
    "            nn.ReLU(),\n",
    "            nn.Linear(hidden_dim, hidden_dim),\n",
    "            nn.ReLU(),\n",
    "            nn.Linear(hidden_dim, hidden_dim),\n",
    "            nn.ReLU(),\n",
    "            nn.Linear(hidden_dim, 1),\n",
    "            nn.Sigmoid())\n",
    "        \n",
    "    def forward(self, x):\n",
    "        return self.model(x)"
   ]
  },
  {
   "cell_type": "code",
   "execution_count": 129,
   "id": "d1a930ad",
   "metadata": {
    "code_folding": []
   },
   "outputs": [],
   "source": [
    "def train(netD, netG, train_loader, epochs, loss_func, optD, optG, noise_func=torch.randn):\n",
    "    loss_D_list, loss_G_list = [], []\n",
    "    step = 0\n",
    "    for epoch in range(1, epochs+1):\n",
    "        loss_D_epoch, loss_G_epoch = 0, 0\n",
    "        for i, (p_x_e, p_y_e, p_z_e, p_x_g1, p_y_g1, p_z_g1, p_x_g2, p_y_g2, p_z_g2, p_x_p, p_y_p, p_z_p) in enumerate(train_loader):\n",
    "            inputs = torch.vstack([p_x_e, p_y_e, p_z_e, p_x_g1, p_y_g1, p_z_g1, p_x_g2, p_y_g2, p_z_g2, p_x_p, p_y_p, p_z_p]).permute(1,0)\n",
    "\n",
    "            valid = torch.ones(inputs.size(0))\n",
    "\n",
    "            fake = torch.zeros(inputs.size(0))\n",
    "            \n",
    "            # dicriminator\n",
    "            netD.zero_grad()\n",
    "            z = noise_func(inputs.size(0), latent_dim)\n",
    "\n",
    "            logits_real = netD(inputs)\n",
    "            loss_D_real = loss_func(logits_real.squeeze(), valid)\n",
    "\n",
    "            fake_inputs = netG(z)\n",
    "            logits_fake = netD(fake_inputs.detach())\n",
    "            loss_D_fake = loss_func(logits_fake.squeeze(), fake)\n",
    "\n",
    "            loss_D = (loss_D_fake + loss_D_real)/2\n",
    "            loss_D.backward()\n",
    "            optD.step()\n",
    "\n",
    "            # generator\n",
    "            netG.zero_grad()\n",
    "\n",
    "            fake_inputs = netG(z)\n",
    "            logits_fake = netD(fake_inputs)\n",
    "            loss_G = loss_func(logits_fake.squeeze(), valid)\n",
    "            loss_G.backward()\n",
    "            optG.step()\n",
    "\n",
    "            loss_D_epoch += loss_D.item()\n",
    "            loss_G_epoch += loss_G.item()\n",
    "            print(f\"\\rEpoch {epoch}/{epochs} - {i}/{len(train_loader)} - loss_D: {loss_D.item():.4f} - loss_G: {loss_G.item():.4f}\", end=\"\")\n"
   ]
  },
  {
   "cell_type": "code",
   "execution_count": 130,
   "id": "723d6707",
   "metadata": {},
   "outputs": [],
   "source": [
    "latent_dim = 15\n",
    "hidden_dim = 100\n",
    "epochs = 30\n",
    "lr = 3e-4\n",
    "\n",
    "netG = Generator(latent_dim, hidden_dim=hidden_dim)\n",
    "netD = Discriminator(hidden_dim=hidden_dim)\n",
    "loss_func = nn.BCELoss()\n",
    "optD = torch.optim.Adam(netD.parameters(), lr=lr)\n",
    "optG = torch.optim.Adam(netG.parameters(), lr=lr)"
   ]
  },
  {
   "cell_type": "code",
   "execution_count": 131,
   "id": "435f03df",
   "metadata": {},
   "outputs": [
    {
     "name": "stdout",
     "output_type": "stream",
     "text": [
      "Epoch 30/30 - 61193/61194 - loss_D: 0.6931 - loss_G: 0.6931"
     ]
    }
   ],
   "source": [
    "train(netD, netG, train_loader, epochs, loss_func, optD, optG, noise_func=torch.randn)"
   ]
  },
  {
   "cell_type": "code",
   "execution_count": 182,
   "id": "d3af3e65",
   "metadata": {},
   "outputs": [],
   "source": [
    "# добавить закон сохранения импульса в лосс! + веса для штрафов\n",
    "# заменить полносвязные слои на свертки Conv1d\n",
    "# добавить слоев\n",
    "# посмотреть на функции ошибок\n",
    "# зависимость качества от количества данных"
   ]
  },
  {
   "cell_type": "markdown",
   "id": "56ac0f72",
   "metadata": {},
   "source": [
    "# Minimal validation"
   ]
  },
  {
   "cell_type": "markdown",
   "id": "0cd64f78",
   "metadata": {},
   "source": [
    "###### Law of conservation of momentum"
   ]
  },
  {
   "cell_type": "code",
   "execution_count": 152,
   "id": "b92cf356",
   "metadata": {},
   "outputs": [],
   "source": [
    "z = torch.randn(10000, 15)\n",
    "with torch.no_grad():\n",
    "    inputs = netG(z).cpu()"
   ]
  },
  {
   "cell_type": "code",
   "execution_count": 150,
   "id": "961ced8c",
   "metadata": {},
   "outputs": [],
   "source": [
    "df_momentum = pd.DataFrame({'real': [df.apply(lambda x: x.p_x_e+x.p_x_g1+x.p_x_g2+x.p_x_p, axis=1).mean(),\n",
    "                                     df.apply(lambda x: x.p_y_e+x.p_y_g1+x.p_y_g2+x.p_y_p, axis=1).mean(),\n",
    "                                     df.apply(lambda x: x.p_z_e+x.p_z_g1+x.p_z_g2+x.p_z_p, axis=1).mean()],\n",
    "                            'gen':  [np.array(inputs[:, 0] + inputs[:, 3] + inputs[:, 6] + inputs[:, 9]).mean(),\n",
    "                                     np.array(inputs[:, 1] + inputs[:, 4] + inputs[:, 7] + inputs[:, 10]).mean(),\n",
    "                                     np.array(inputs[:, 2] + inputs[:, 5] + inputs[:, 8] + inputs[:, 11]).mean()]})"
   ]
  },
  {
   "cell_type": "code",
   "execution_count": 151,
   "id": "db3f0cbf",
   "metadata": {},
   "outputs": [
    {
     "data": {
      "text/html": [
       "<div>\n",
       "<style scoped>\n",
       "    .dataframe tbody tr th:only-of-type {\n",
       "        vertical-align: middle;\n",
       "    }\n",
       "\n",
       "    .dataframe tbody tr th {\n",
       "        vertical-align: top;\n",
       "    }\n",
       "\n",
       "    .dataframe thead th {\n",
       "        text-align: right;\n",
       "    }\n",
       "</style>\n",
       "<table border=\"1\" class=\"dataframe\">\n",
       "  <thead>\n",
       "    <tr style=\"text-align: right;\">\n",
       "      <th></th>\n",
       "      <th>real</th>\n",
       "      <th>gen</th>\n",
       "    </tr>\n",
       "  </thead>\n",
       "  <tbody>\n",
       "    <tr>\n",
       "      <th>0</th>\n",
       "      <td>-1.048674e-09</td>\n",
       "      <td>0.087458</td>\n",
       "    </tr>\n",
       "    <tr>\n",
       "      <th>1</th>\n",
       "      <td>2.879127e-10</td>\n",
       "      <td>0.035605</td>\n",
       "    </tr>\n",
       "    <tr>\n",
       "      <th>2</th>\n",
       "      <td>6.535000e+00</td>\n",
       "      <td>7.543521</td>\n",
       "    </tr>\n",
       "  </tbody>\n",
       "</table>\n",
       "</div>"
      ],
      "text/plain": [
       "           real       gen\n",
       "0 -1.048674e-09  0.087458\n",
       "1  2.879127e-10  0.035605\n",
       "2  6.535000e+00  7.543521"
      ]
     },
     "execution_count": 151,
     "metadata": {},
     "output_type": "execute_result"
    }
   ],
   "source": [
    "df_momentum"
   ]
  },
  {
   "cell_type": "code",
   "execution_count": 188,
   "id": "c6ba78f0",
   "metadata": {},
   "outputs": [
    {
     "data": {
      "text/plain": [
       "<AxesSubplot:>"
      ]
     },
     "execution_count": 188,
     "metadata": {},
     "output_type": "execute_result"
    },
    {
     "data": {
      "image/png": "[encoded data removed]",
      "text/plain": [
       "<Figure size 432x288 with 1 Axes>"
      ]
     },
     "metadata": {
      "needs_background": "light"
     },
     "output_type": "display_data"
    }
   ],
   "source": [
    "df.p_y_g1.hist(bins=100)"
   ]
  },
  {
   "cell_type": "code",
   "execution_count": 181,
   "id": "bd3a3d5e",
   "metadata": {},
   "outputs": [
    {
     "data": {
      "text/plain": [
       "<AxesSubplot:>"
      ]
     },
     "execution_count": 181,
     "metadata": {},
     "output_type": "execute_result"
    },
    {
     "data": {
      "image/png": "[encoded data removed]",
      "text/plain": [
       "<Figure size 432x288 with 1 Axes>"
      ]
     },
     "metadata": {
      "needs_background": "light"
     },
     "output_type": "display_data"
    }
   ],
   "source": [
    "pd.Series(inputs[:,2]).hist(bins=100)"
   ]
  },
  {
   "cell_type": "code",
   "execution_count": null,
   "id": "9ff67866",
   "metadata": {},
   "outputs": [],
   "source": []
  },
  {
   "cell_type": "code",
   "execution_count": null,
   "id": "609690d5",
   "metadata": {},
   "outputs": [],
   "source": []
  },
  {
   "cell_type": "code",
   "execution_count": null,
   "id": "409550f5",
   "metadata": {},
   "outputs": [],
   "source": []
  },
  {
   "cell_type": "code",
   "execution_count": null,
   "id": "b4b4d3ec",
   "metadata": {},
   "outputs": [],
   "source": []
  },
  {
   "cell_type": "code",
   "execution_count": null,
   "id": "353a08f8",
   "metadata": {},
   "outputs": [],
   "source": []
  },
  {
   "cell_type": "code",
   "execution_count": null,
   "id": "087f3cfa",
   "metadata": {},
   "outputs": [],
   "source": []
  },
  {
   "cell_type": "code",
   "execution_count": null,
   "id": "91eb8c38",
   "metadata": {},
   "outputs": [],
   "source": []
  },
  {
   "cell_type": "code",
   "execution_count": null,
   "id": "38e670a6",
   "metadata": {},
   "outputs": [],
   "source": []
  },
  {
   "cell_type": "code",
   "execution_count": null,
   "id": "289e78b0",
   "metadata": {},
   "outputs": [],
   "source": []
  },
  {
   "cell_type": "code",
   "execution_count": null,
   "id": "6111a7e3",
   "metadata": {},
   "outputs": [],
   "source": []
  },
  {
   "cell_type": "code",
   "execution_count": null,
   "id": "687f2286",
   "metadata": {},
   "outputs": [],
   "source": []
  },
  {
   "cell_type": "code",
   "execution_count": null,
   "id": "bf616db4",
   "metadata": {},
   "outputs": [],
   "source": []
  },
  {
   "cell_type": "code",
   "execution_count": 37,
   "id": "87cb14a4",
   "metadata": {},
   "outputs": [
    {
     "data": {
      "text/plain": [
       "<seaborn.axisgrid.FacetGrid at 0x1450c7820>"
      ]
     },
     "execution_count": 37,
     "metadata": {},
     "output_type": "execute_result"
    },
    {
     "data": {
      "image/png": "[encoded data removed]",
      "text/plain": [
       "<Figure size 216x2592 with 12 Axes>"
      ]
     },
     "metadata": {
      "needs_background": "light"
     },
     "output_type": "display_data"
    }
   ],
   "source": [
    "g = sns.FacetGrid(df.melt(), row='variable')\n",
    "g.map(plt.hist, 'value', bins=100)"
   ]
  },
  {
   "cell_type": "code",
   "execution_count": null,
   "id": "b22d3c9b",
   "metadata": {},
   "outputs": [],
   "source": []
  },
  {
   "cell_type": "code",
   "execution_count": null,
   "id": "a13cf8d1",
   "metadata": {},
   "outputs": [],
   "source": []
  },
  {
   "cell_type": "code",
   "execution_count": null,
   "id": "da70e791",
   "metadata": {},
   "outputs": [],
   "source": []
  },
  {
   "cell_type": "code",
   "execution_count": null,
   "id": "69da2982",
   "metadata": {},
   "outputs": [],
   "source": []
  },
  {
   "cell_type": "code",
   "execution_count": null,
   "id": "1cff27eb",
   "metadata": {},
   "outputs": [],
   "source": []
  },
  {
   "cell_type": "code",
   "execution_count": null,
   "id": "c00297e5",
   "metadata": {},
   "outputs": [],
   "source": []
  },
  {
   "cell_type": "code",
   "execution_count": null,
   "id": "ea0c8190",
   "metadata": {},
   "outputs": [],
   "source": []
  },
  {
   "cell_type": "code",
   "execution_count": null,
   "id": "a602a80a",
   "metadata": {},
   "outputs": [],
   "source": []
  },
  {
   "cell_type": "code",
   "execution_count": null,
   "id": "544a3510",
   "metadata": {},
   "outputs": [],
   "source": []
  },
  {
   "cell_type": "code",
   "execution_count": null,
   "id": "86015c30",
   "metadata": {},
   "outputs": [],
   "source": []
  },
  {
   "cell_type": "code",
   "execution_count": null,
   "id": "38f1b976",
   "metadata": {},
   "outputs": [],
   "source": []
  },
  {
   "cell_type": "code",
   "execution_count": null,
   "id": "2a68cad2",
   "metadata": {},
   "outputs": [],
   "source": []
  }
 ],
 "metadata": {
  "kernelspec": {
   "display_name": "Python 3",
   "language": "python",
   "name": "python3"
  },
  "language_info": {
   "codemirror_mode": {
    "name": "ipython",
    "version": 3
   },
   "file_extension": ".py",
   "mimetype": "text/x-python",
   "name": "python",
   "nbconvert_exporter": "python",
   "pygments_lexer": "ipython3",
   "version": "3.9.0"
  }
 },
 "nbformat": 4,
 "nbformat_minor": 5
}
